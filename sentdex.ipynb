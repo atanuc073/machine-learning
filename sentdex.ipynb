{
 "cells": [
  {
   "cell_type": "code",
   "execution_count": 5,
   "metadata": {},
   "outputs": [
    {
     "name": "stdout",
     "output_type": "stream",
     "text": [
      "              Open    High     Low    Close      Volume  Ex-Dividend  \\\n",
      "Date                                                                   \n",
      "2004-08-19  100.01  104.06   95.96  100.335  44659000.0          0.0   \n",
      "2004-08-20  101.01  109.08  100.50  108.310  22834300.0          0.0   \n",
      "2004-08-23  110.76  113.48  109.05  109.400  18256100.0          0.0   \n",
      "2004-08-24  111.24  111.60  103.57  104.870  15247300.0          0.0   \n",
      "2004-08-25  104.76  108.00  103.88  106.000   9188600.0          0.0   \n",
      "\n",
      "            Split Ratio  Adj. Open  Adj. High   Adj. Low  Adj. Close  \\\n",
      "Date                                                                   \n",
      "2004-08-19          1.0  50.159839  52.191109  48.128568   50.322842   \n",
      "2004-08-20          1.0  50.661387  54.708881  50.405597   54.322689   \n",
      "2004-08-23          1.0  55.551482  56.915693  54.693835   54.869377   \n",
      "2004-08-24          1.0  55.792225  55.972783  51.945350   52.597363   \n",
      "2004-08-25          1.0  52.542193  54.167209  52.100830   53.164113   \n",
      "\n",
      "            Adj. Volume  \n",
      "Date                     \n",
      "2004-08-19   44659000.0  \n",
      "2004-08-20   22834300.0  \n",
      "2004-08-23   18256100.0  \n",
      "2004-08-24   15247300.0  \n",
      "2004-08-25    9188600.0  \n"
     ]
    }
   ],
   "source": [
    "\n",
    "import pandas as pd\n",
    "import quandl,math\n",
    "import numpy as np\n",
    "from sklearn import preprocessing,svm\n",
    "from sklearn.model_selection import cross_validate\n",
    "from sklearn.linear_model import LinearRegression\n",
    "df=quandl.get(\"WIKI/GOOGL\", authtoken=\"UamTH_YWBrpqQsBxq1Fe\")\n",
    "print(df.head())"
   ]
  },
  {
   "cell_type": "code",
   "execution_count": 6,
   "metadata": {},
   "outputs": [
    {
     "name": "stdout",
     "output_type": "stream",
     "text": [
      "            Adj. Close  OC_percent_change  HL_percent_change  Adj. Volume  \\\n",
      "Date                                                                        \n",
      "2004-08-19   50.322842           0.324968           8.441017   44659000.0   \n",
      "2004-08-20   54.322689           7.227007           8.537313   22834300.0   \n",
      "2004-08-23   54.869377          -1.227880           4.062357   18256100.0   \n",
      "2004-08-24   52.597363          -5.726357           7.753210   15247300.0   \n",
      "2004-08-25   53.164113           1.183658           3.966115    9188600.0   \n",
      "\n",
      "            Adj. High  Adj. Open   Adj. Low  \n",
      "Date                                         \n",
      "2004-08-19  52.191109  50.159839  48.128568  \n",
      "2004-08-20  54.708881  50.661387  50.405597  \n",
      "2004-08-23  56.915693  55.551482  54.693835  \n",
      "2004-08-24  55.972783  55.792225  51.945350  \n",
      "2004-08-25  54.167209  52.542193  52.100830  \n",
      "            Adj. Close  OC_percent_change  HL_percent_change  Adj. Volume  \\\n",
      "Date                                                                        \n",
      "2004-08-19   50.322842           0.324968           8.441017   44659000.0   \n",
      "2004-08-20   54.322689           7.227007           8.537313   22834300.0   \n",
      "2004-08-23   54.869377          -1.227880           4.062357   18256100.0   \n",
      "2004-08-24   52.597363          -5.726357           7.753210   15247300.0   \n",
      "2004-08-25   53.164113           1.183658           3.966115    9188600.0   \n",
      "\n",
      "            Adj. High  Adj. Open   Adj. Low       label  \n",
      "Date                                                     \n",
      "2004-08-19  52.191109  50.159839  48.128568  214.005615  \n",
      "2004-08-20  54.708881  50.661387  50.405597  210.725489  \n",
      "2004-08-23  56.915693  55.551482  54.693835  208.072299  \n",
      "2004-08-24  55.972783  55.792225  51.945350  218.288837  \n",
      "2004-08-25  54.167209  52.542193  52.100830  223.309335  \n"
     ]
    }
   ],
   "source": [
    "df=df[['Adj. Open','Adj. High','Adj. Low','Adj. Close','Adj. Volume',]]\n",
    "df['HL_percent_change']=((df['Adj. High']-df['Adj. Low'])/df['Adj. Low'])*100\n",
    "df['OC_percent_change']=((df['Adj. Close']-df['Adj. Open'])/df['Adj. Open'])*100\n",
    "df=df[['Adj. Close','OC_percent_change','HL_percent_change','Adj. Volume','Adj. High', 'Adj. Open', 'Adj. Low']]\n",
    "print(df.head())\n",
    "forecast_col='Adj. Close'\n",
    "df.fillna(-99999,inplace=True)            # in case if there is some not available data it will be fill with -99999\n",
    "\n",
    "forecast_out=int(math.ceil(0.1*len(df)))\n",
    "\n",
    "df['label']=df[forecast_col].shift(-forecast_out)\n",
    "df.dropna(inplace=True)\n",
    "print(df.head())"
   ]
  },
  {
   "cell_type": "code",
   "execution_count": 3,
   "metadata": {},
   "outputs": [],
   "source": [
    "X=np.array(df.drop(['label'],1))\n",
    "y=np.array(df['label'])\n",
    "\n",
    "X=preprocessing.scale(X)\n"
   ]
  }
 ],
 "metadata": {
  "kernelspec": {
   "display_name": "Python 3",
   "language": "python",
   "name": "python3"
  },
  "language_info": {
   "codemirror_mode": {
    "name": "ipython",
    "version": 3
   },
   "file_extension": ".py",
   "mimetype": "text/x-python",
   "name": "python",
   "nbconvert_exporter": "python",
   "pygments_lexer": "ipython3",
   "version": "3.7.4"
  }
 },
 "nbformat": 4,
 "nbformat_minor": 2
}
